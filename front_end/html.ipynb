{
 "cells": [
  {
   "cell_type": "markdown",
   "metadata": {},
   "source": [
    "# <font color='darkorange'> ***html***\n",
    "\n",
    "### <font color='orange'>tags em html e sua utilidade\n",
    "\n",
    "### <font color=orange> Doctype\n",
    "<font color=white>\n",
    "\n",
    "O **doctype**, ou declaração de tipo de documento, é uma instrução que informa ao navegador qual é a versão do **html** utilizada no documento. todos os documentos **html** devem começar com uma declaração doctype.\n",
    "<font color=orange>\n",
    "\n",
    " **Exemplo de declaração doctype**\n",
    "<font color=white>\n",
    "\n",
    "\n",
    "<font size= 5>`<DOCTYPE html>`\n",
    "\n",
    "<font size=3>\n",
    "\n",
    "Esta declaração indica ao navegador que o documento é um documento HTML5."
   ]
  },
  {
   "cell_type": "markdown",
   "metadata": {},
   "source": [
    "### <font color=orange> html\n",
    "<font color=white>\n",
    "\n",
    "A tag **html** é a tag raiz de um documento **html**. ela é\n",
    "responsável por envolver todos osoutros elementos **html** no documento. A tag **html** sempre deve ser usada no inicio de um documento **html** e deve ser fechada com a tag **/html** no final documento.\n",
    "\n",
    "<font color=orange>\n",
    "\n",
    " **Exemplo de uso da tag**\n"
   ]
  },
  {
   "cell_type": "code",
   "execution_count": null,
   "metadata": {
    "vscode": {
     "languageId": "html"
    }
   },
   "outputs": [],
   "source": [
    "<!DOCTYPE html>\n",
    "<html lang=\"pt-br\">\n",
    "    <!--conteudo-->\n",
    "</html>"
   ]
  },
  {
   "cell_type": "markdown",
   "metadata": {},
   "source": [
    "<font color=orange>\n",
    "\n",
    " **Atributos**\n",
    " <font color=white>\n",
    " \n",
    " A tag **html** suporta os seguintes atributos\n",
    "\n",
    "* **lang**: Epecifica o idioma do documento.\n",
    "\n",
    "* **dir**: Especifica a direção do texto do documento. os valores possiveis são ltr (esquerda para direita) e rtl(direita para a esquerda)"
   ]
  },
  {
   "cell_type": "markdown",
   "metadata": {},
   "source": [
    "### <font color=orange> head\n",
    "<font color=white>\n",
    "\n",
    "A tag **head** é um elemento **html** que contém informações sobre o documento, como seu título, metadados e scripts. A tag **head** sempre deve ser colocada entre a tag **html** e a tag **body** do documento.\n",
    "\n",
    "<font color=orange> Exemplo de uso tag head\n"
   ]
  },
  {
   "cell_type": "code",
   "execution_count": null,
   "metadata": {
    "vscode": {
     "languageId": "html"
    }
   },
   "outputs": [],
   "source": [
    "<!DOCTYPE html>\n",
    "<html lang=\"pt-br\">\n",
    "    <head>\n",
    "        <meta charset=\"UTF-8\">\n",
    "        <meta name=\"viewport\" content=\"width=device-width, initial-scale=1.0\">\n",
    "        <title>titulo</title>\n",
    "    </head>\n",
    "    <body>\n",
    "\n",
    "    </body>\n",
    "</html>"
   ]
  },
  {
   "cell_type": "markdown",
   "metadata": {},
   "source": [
    "#### <font color=orange> Elementos permitidos na dentro da tag head"
   ]
  },
  {
   "cell_type": "markdown",
   "metadata": {},
   "source": [
    "#### <font color=orange> meta charset= \"utf-8\""
   ]
  },
  {
   "cell_type": "markdown",
   "metadata": {},
   "source": [
    "<font color=\"white\">\n",
    "\n",
    "O **meta charset** é responsavel por indicar a codificação de caracteres utilizadas  que no nosso caso é o **utf-8** por permitir acentuação "
   ]
  },
  {
   "cell_type": "markdown",
   "metadata": {},
   "source": [
    "#### <font color=orange>   meta name=\"viewport\" content=\"width=device-width, initial-scale=1.0\""
   ]
  },
  {
   "cell_type": "markdown",
   "metadata": {},
   "source": [
    "<font color=white> Esse codigo extenso em cima indica que a tela vai ocupar 100% da tela disponivel "
   ]
  },
  {
   "cell_type": "markdown",
   "metadata": {},
   "source": [
    " #### <font color=orange>  title \n",
    "\n",
    " <font color=white> indica o titulo do site"
   ]
  },
  {
   "cell_type": "markdown",
   "metadata": {},
   "source": [
    "### <font color=orange> Body\n",
    "\n",
    "<font color=white> Body é o corpo do site responsavel por seu conteudo vem logo depois do fechamento da tag head"
   ]
  },
  {
   "cell_type": "code",
   "execution_count": null,
   "metadata": {
    "vscode": {
     "languageId": "html"
    }
   },
   "outputs": [],
   "source": [
    "<!DOCTYPE html>\n",
    "<html lang=\"en\">\n",
    "<head>\n",
    "    <meta charset=\"UTF-8\">\n",
    "    <meta name=\"viewport\" content=\"width=device-width, initial-scale=1.0\">\n",
    "    <title>Document</title>\n",
    "</head>\n",
    "<body>\n",
    "    \n",
    "</body>\n",
    "</html>"
   ]
  },
  {
   "cell_type": "markdown",
   "metadata": {},
   "source": [
    "#### <font color=\"orange\">  h1 até h6\n",
    "\n",
    "<font color=white> a tag h* é uma tag de titulo quê possui uma numeração de um a 6 que ierarquisa a ordem de importancia dos assuntos do arquivo."
   ]
  },
  {
   "cell_type": "markdown",
   "metadata": {},
   "source": [
    "#### <font color=\"orange\"> P \n",
    "<font color=white> \n",
    "a tag p é uma tag para paragráfo "
   ]
  },
  {
   "cell_type": "markdown",
   "metadata": {},
   "source": [
    "#### <font color=\"orange\"> hr\n",
    "<font color=white> \n",
    "    a tag hr é responsavel por criar uma linha horizontal"
   ]
  },
  {
   "cell_type": "markdown",
   "metadata": {},
   "source": [
    "#### <font color=\"orange\"> br\n",
    "\n",
    "<font color=\"whITE\">\n",
    "\n",
    "a tag **br** é utilizada para quebra de linha "
   ]
  },
  {
   "cell_type": "markdown",
   "metadata": {},
   "source": [
    "#### <font color=\"orange\"> &lt e &gt\n",
    "<font color=\"whITE\">\n",
    "os codigos (& l t) e (& g t) (sem os espaços) são utilizado para colocar o sinal de maior e menor no html ja quê o sinal de maior e menor são utilizados para abertura e fechamento de tag "
   ]
  },
  {
   "cell_type": "code",
   "execution_count": null,
   "metadata": {
    "vscode": {
     "languageId": "html"
    }
   },
   "outputs": [],
   "source": []
  }
 ],
 "metadata": {
  "kernelspec": {
   "display_name": "base",
   "language": "python",
   "name": "python3"
  },
  "language_info": {
   "name": "python",
   "version": "3.10.9"
  },
  "orig_nbformat": 4
 },
 "nbformat": 4,
 "nbformat_minor": 2
}
